{
 "cells": [
  {
   "cell_type": "code",
   "execution_count": null,
   "metadata": {},
   "outputs": [],
   "source": [
    "import os\n",
    "import json\n",
    "import time\n",
    "import yaml\n",
    "import urllib\n",
    "from tqdm import tqdm"
   ]
  },
  {
   "cell_type": "code",
   "execution_count": null,
   "metadata": {},
   "outputs": [],
   "source": [
    "date = '20200130'"
   ]
  },
  {
   "cell_type": "code",
   "execution_count": null,
   "metadata": {},
   "outputs": [],
   "source": [
    "def load_config(path=None):\n",
    "    if path is None:\n",
    "        path = os.path.join(os.getcwd(), 'config.yml')\n",
    "    with open(path, 'r', encoding='UTF-8') as yml:\n",
    "        config = yaml.load(yml, Loader=yaml.FullLoader)\n",
    "    return config"
   ]
  },
  {
   "cell_type": "code",
   "execution_count": null,
   "metadata": {},
   "outputs": [],
   "source": [
    "config = load_config()"
   ]
  },
  {
   "cell_type": "code",
   "execution_count": null,
   "metadata": {},
   "outputs": [],
   "source": [
    "files_url = \"https://slack.com/api/files.list\"\n",
    "files_dict_keys = [\"token\", \"count\"]\n",
    "files_dict = {key: config[key] for key in files_dict_keys}"
   ]
  },
  {
   "cell_type": "code",
   "execution_count": null,
   "metadata": {},
   "outputs": [],
   "source": [
    "files_dict['page'] = 1\n",
    "files = f\"{files_url}?{urllib.parse.urlencode(files_dict)}\"\n",
    "files_result = json.loads(urllib.request.urlopen(files).read())\n",
    "time.sleep(1)"
   ]
  },
  {
   "cell_type": "code",
   "execution_count": null,
   "metadata": {},
   "outputs": [],
   "source": [
    "files_result['paging']"
   ]
  },
  {
   "cell_type": "code",
   "execution_count": null,
   "metadata": {},
   "outputs": [],
   "source": [
    "file_name_urls = {}\n",
    "for file in files_result['files']:\n",
    "    f_name = file[\"name\"]\n",
    "    f_url = file['url_private']\n",
    "    suffix_n = 0\n",
    "    f_name_split = os.path.splitext(f_name)\n",
    "    while f_name in file_name_urls.keys():\n",
    "        f_name = f_name_split[0] + '_' + str(suffix_n) + f_name_split[1]\n",
    "        suffix_n += 1\n",
    "    file_name_urls.update({f_name: f_url})"
   ]
  },
  {
   "cell_type": "code",
   "execution_count": null,
   "metadata": {},
   "outputs": [],
   "source": [
    "i = 0\n",
    "auth_dict = {\"Authorization\": f\"Bearer {config['token']}\"}\n",
    "for item in tqdm(file_name_urls.items()):\n",
    "    url = item[1]\n",
    "    file_name = item[0]\n",
    "    file_path = f\"downloaded/{date}/{file_name.replace('/', '')}\"\n",
    "    if os.path.exists(file_path):\n",
    "        continue\n",
    "    req = urllib.request.Request(url, headers=auth_dict, method=\"GET\")\n",
    "    try:\n",
    "        with urllib.request.urlopen(req) as res:\n",
    "            file_byte = res.read()\n",
    "        with open(file_path, mode=\"wb\") as f:\n",
    "            f.write(file_byte)\n",
    "    except urllib.error.HTTPError:\n",
    "        print(f'Could not download {file_name}')\n",
    "    time.sleep(1)"
   ]
  },
  {
   "cell_type": "code",
   "execution_count": null,
   "metadata": {},
   "outputs": [],
   "source": []
  }
 ],
 "metadata": {
  "kernelspec": {
   "display_name": "Python 3",
   "language": "python",
   "name": "python3"
  },
  "language_info": {
   "codemirror_mode": {
    "name": "ipython",
    "version": 3
   },
   "file_extension": ".py",
   "mimetype": "text/x-python",
   "name": "python",
   "nbconvert_exporter": "python",
   "pygments_lexer": "ipython3",
   "version": "3.7.2"
  }
 },
 "nbformat": 4,
 "nbformat_minor": 2
}
